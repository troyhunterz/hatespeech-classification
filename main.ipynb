{
 "cells": [
  {
   "cell_type": "markdown",
   "id": "e8ed1d5b",
   "metadata": {},
   "source": [
    "# Hate Speech Classification"
   ]
  },
  {
   "cell_type": "markdown",
   "id": "a30515ee",
   "metadata": {
    "vscode": {
     "languageId": "plaintext"
    }
   },
   "source": [
    "Hate speech is defined by the Cambridge Dictionary as 'public speech that expresses hate or encourages violence toward a person or group based on something such as race, religion, sex, or sexual orientation'\n",
    "\n",
    "Steps to classify hate speech:\n",
    "- Preprocess the text data\n",
    "- Convert text to numerical tokens\n",
    "- Build and Train ML\n",
    "- Test the Model\n",
    "- Save and use it later"
   ]
  },
  {
   "cell_type": "markdown",
   "id": "2db02334",
   "metadata": {
    "vscode": {
     "languageId": "plaintext"
    }
   },
   "source": [
    "## Requirements"
   ]
  },
  {
   "cell_type": "code",
   "execution_count": null,
   "id": "bb5dd93f",
   "metadata": {},
   "outputs": [],
   "source": [
    "!pip install spacy\n",
    "!pip install git+https://github.com/troyhunterz/preprocess_tr.git\n",
    "!pip install np_utils\n",
    "!pip install mlxtend"
   ]
  },
  {
   "cell_type": "markdown",
   "id": "2fdb2822",
   "metadata": {
    "vscode": {
     "languageId": "plaintext"
    }
   },
   "source": [
    "## Libraries"
   ]
  },
  {
   "cell_type": "code",
   "execution_count": 165,
   "id": "fbd204ff",
   "metadata": {},
   "outputs": [],
   "source": [
    "import preprocess_tr as ps \n",
    "import numpy as np\n",
    "import pandas as pd\n",
    "import re\n",
    "from mlxtend.plotting import plot_confusion_matrix\n",
    "import pickle as pkl\n",
    "\n",
    "# scikit-learn\n",
    "from sklearn.model_selection import train_test_split\n",
    "from sklearn.metrics import classification_report, confusion_matrix\n",
    "\n",
    "# tensorflow\n",
    "from tensorflow.keras.preprocessing.text import Tokenizer\n",
    "from tensorflow.keras.preprocessing.sequence import pad_sequences\n",
    "from tensorflow.keras.models import Sequential\n",
    "from tensorflow.keras.layers import Dense, Flatten, Embedding, Dropout\n",
    "from tensorflow.keras.layers import Conv1D, MaxPooling1D, GlobalMaxPooling1D\n",
    "from tensorflow.keras.optimizers import Adam\n",
    "from keras.utils import to_categorical\n",
    "from keras.models import load_model\n",
    "\n",
    "# warnings\n",
    "import warnings\n",
    "warnings.filterwarnings('ignore')"
   ]
  },
  {
   "cell_type": "markdown",
   "id": "6e0fd8e1",
   "metadata": {},
   "source": [
    "## Loading Data & Explore"
   ]
  },
  {
   "cell_type": "code",
   "execution_count": 166,
   "id": "762d4803",
   "metadata": {},
   "outputs": [
    {
     "data": {
      "text/html": [
       "<div>\n",
       "<style scoped>\n",
       "    .dataframe tbody tr th:only-of-type {\n",
       "        vertical-align: middle;\n",
       "    }\n",
       "\n",
       "    .dataframe tbody tr th {\n",
       "        vertical-align: top;\n",
       "    }\n",
       "\n",
       "    .dataframe thead th {\n",
       "        text-align: right;\n",
       "    }\n",
       "</style>\n",
       "<table border=\"1\" class=\"dataframe\">\n",
       "  <thead>\n",
       "    <tr style=\"text-align: right;\">\n",
       "      <th></th>\n",
       "      <th>count</th>\n",
       "      <th>hate_speech</th>\n",
       "      <th>offensive_language</th>\n",
       "      <th>neither</th>\n",
       "      <th>class</th>\n",
       "      <th>tweet</th>\n",
       "    </tr>\n",
       "  </thead>\n",
       "  <tbody>\n",
       "    <tr>\n",
       "      <th>0</th>\n",
       "      <td>3</td>\n",
       "      <td>0</td>\n",
       "      <td>0</td>\n",
       "      <td>3</td>\n",
       "      <td>2</td>\n",
       "      <td>!!! RT @mayasolovely: As a woman you shouldn't...</td>\n",
       "    </tr>\n",
       "    <tr>\n",
       "      <th>1</th>\n",
       "      <td>3</td>\n",
       "      <td>0</td>\n",
       "      <td>3</td>\n",
       "      <td>0</td>\n",
       "      <td>1</td>\n",
       "      <td>!!!!! RT @mleew17: boy dats cold...tyga dwn ba...</td>\n",
       "    </tr>\n",
       "    <tr>\n",
       "      <th>2</th>\n",
       "      <td>3</td>\n",
       "      <td>0</td>\n",
       "      <td>3</td>\n",
       "      <td>0</td>\n",
       "      <td>1</td>\n",
       "      <td>!!!!!!! RT @UrKindOfBrand Dawg!!!! RT @80sbaby...</td>\n",
       "    </tr>\n",
       "  </tbody>\n",
       "</table>\n",
       "</div>"
      ],
      "text/plain": [
       "   count  hate_speech  ...  class                                              tweet\n",
       "0      3            0  ...      2  !!! RT @mayasolovely: As a woman you shouldn't...\n",
       "1      3            0  ...      1  !!!!! RT @mleew17: boy dats cold...tyga dwn ba...\n",
       "2      3            0  ...      1  !!!!!!! RT @UrKindOfBrand Dawg!!!! RT @80sbaby...\n",
       "\n",
       "[3 rows x 6 columns]"
      ]
     },
     "execution_count": 166,
     "metadata": {},
     "output_type": "execute_result"
    }
   ],
   "source": [
    "df = pd.read_csv('dataset/data.csv', index_col=0)\n",
    "df.head(3)"
   ]
  },
  {
   "cell_type": "code",
   "execution_count": 167,
   "id": "ebf1c3ef",
   "metadata": {},
   "outputs": [
    {
     "data": {
      "text/plain": [
       "class\n",
       "1    19190\n",
       "2     4163\n",
       "0     1430\n",
       "Name: count, dtype: int64"
      ]
     },
     "execution_count": 167,
     "metadata": {},
     "output_type": "execute_result"
    }
   ],
   "source": [
    "# 0 - hate speech | 1 - offensive language | 2 - neither\n",
    "df['class'].value_counts()"
   ]
  },
  {
   "cell_type": "code",
   "execution_count": 168,
   "id": "35a6a84c",
   "metadata": {},
   "outputs": [
    {
     "data": {
      "text/plain": [
       "(1430, [1, 2, 0])"
      ]
     },
     "execution_count": 168,
     "metadata": {},
     "output_type": "execute_result"
    }
   ],
   "source": [
    "vc = df['class'].value_counts()\n",
    "index = list(vc.index)\n",
    "count = min(vc.values)\n",
    "\n",
    "count, index"
   ]
  },
  {
   "cell_type": "code",
   "execution_count": 169,
   "id": "22992bf3",
   "metadata": {},
   "outputs": [],
   "source": [
    "df_bal = pd.DataFrame()\n",
    "for i in index:\n",
    "    temp = df[df['class']==i].sample(count)\n",
    "    df_bal = df_bal._append(temp, ignore_index=True)\n",
    "\n",
    "df = df_bal"
   ]
  },
  {
   "cell_type": "code",
   "execution_count": 170,
   "id": "5283161b",
   "metadata": {},
   "outputs": [
    {
     "data": {
      "text/plain": [
       "class\n",
       "1    1430\n",
       "2    1430\n",
       "0    1430\n",
       "Name: count, dtype: int64"
      ]
     },
     "execution_count": 170,
     "metadata": {},
     "output_type": "execute_result"
    }
   ],
   "source": [
    "df['class'].value_counts()"
   ]
  },
  {
   "cell_type": "markdown",
   "id": "8b3a1960",
   "metadata": {},
   "source": [
    "## Data Preprocessing"
   ]
  },
  {
   "cell_type": "code",
   "execution_count": 171,
   "id": "05d3f442",
   "metadata": {},
   "outputs": [],
   "source": [
    "def get_clean(x):\n",
    "    x = str(x).lower().replace('\\\\', '').replace('_', ' ')\n",
    "    x = ps.contraction_to_expansion(x)\n",
    "    x = ps.remove_emails(x)\n",
    "    x = ps.remove_urls(x)\n",
    "    x = ps.rm_html(x)\n",
    "    x = ps.remove_retweets(x)\n",
    "    x = ps.rm_accented_chars(x)\n",
    "    x = ps.rm_special_chars(x)\n",
    "    x = re.sub('(.)\\\\1{2,}', '\\\\1', x)\n",
    "    return x"
   ]
  },
  {
   "cell_type": "code",
   "execution_count": 172,
   "id": "431c8512",
   "metadata": {},
   "outputs": [
    {
     "data": {
      "text/html": [
       "<div>\n",
       "<style scoped>\n",
       "    .dataframe tbody tr th:only-of-type {\n",
       "        vertical-align: middle;\n",
       "    }\n",
       "\n",
       "    .dataframe tbody tr th {\n",
       "        vertical-align: top;\n",
       "    }\n",
       "\n",
       "    .dataframe thead th {\n",
       "        text-align: right;\n",
       "    }\n",
       "</style>\n",
       "<table border=\"1\" class=\"dataframe\">\n",
       "  <thead>\n",
       "    <tr style=\"text-align: right;\">\n",
       "      <th></th>\n",
       "      <th>count</th>\n",
       "      <th>hate_speech</th>\n",
       "      <th>offensive_language</th>\n",
       "      <th>neither</th>\n",
       "      <th>class</th>\n",
       "      <th>tweet</th>\n",
       "    </tr>\n",
       "  </thead>\n",
       "  <tbody>\n",
       "    <tr>\n",
       "      <th>0</th>\n",
       "      <td>3</td>\n",
       "      <td>0</td>\n",
       "      <td>3</td>\n",
       "      <td>0</td>\n",
       "      <td>1</td>\n",
       "      <td>emd hoe</td>\n",
       "    </tr>\n",
       "    <tr>\n",
       "      <th>1</th>\n",
       "      <td>3</td>\n",
       "      <td>0</td>\n",
       "      <td>3</td>\n",
       "      <td>0</td>\n",
       "      <td>1</td>\n",
       "      <td>retweet elisha40hands bitch you got too many t...</td>\n",
       "    </tr>\n",
       "    <tr>\n",
       "      <th>2</th>\n",
       "      <td>3</td>\n",
       "      <td>0</td>\n",
       "      <td>3</td>\n",
       "      <td>0</td>\n",
       "      <td>1</td>\n",
       "      <td>clicquotsuave maas mermaid and sharkette pussy</td>\n",
       "    </tr>\n",
       "  </tbody>\n",
       "</table>\n",
       "</div>"
      ],
      "text/plain": [
       "   count  hate_speech  ...  class                                              tweet\n",
       "0      3            0  ...      1                                            emd hoe\n",
       "1      3            0  ...      1  retweet elisha40hands bitch you got too many t...\n",
       "2      3            0  ...      1     clicquotsuave maas mermaid and sharkette pussy\n",
       "\n",
       "[3 rows x 6 columns]"
      ]
     },
     "execution_count": 172,
     "metadata": {},
     "output_type": "execute_result"
    }
   ],
   "source": [
    "df['tweet'] = df['tweet'].apply(lambda x: get_clean(x))\n",
    "df.head(3)"
   ]
  },
  {
   "cell_type": "markdown",
   "id": "af304e74",
   "metadata": {},
   "source": [
    "## Token Tokenization"
   ]
  },
  {
   "cell_type": "code",
   "execution_count": 173,
   "id": "df2a20a1",
   "metadata": {},
   "outputs": [
    {
     "data": {
      "text/plain": [
       "['emd hoe', 'retweet elisha40hands bitch you got too many teeth in your mouth']"
      ]
     },
     "execution_count": 173,
     "metadata": {},
     "output_type": "execute_result"
    }
   ],
   "source": [
    "text = df['tweet'].tolist()\n",
    "text[:2]"
   ]
  },
  {
   "cell_type": "code",
   "execution_count": 174,
   "id": "a552fdb3",
   "metadata": {},
   "outputs": [],
   "source": [
    "token = Tokenizer()\n",
    "token.fit_on_texts(text)"
   ]
  },
  {
   "cell_type": "code",
   "execution_count": 175,
   "id": "a852bafd",
   "metadata": {},
   "outputs": [
    {
     "data": {
      "text/plain": [
       "11596"
      ]
     },
     "execution_count": 175,
     "metadata": {},
     "output_type": "execute_result"
    }
   ],
   "source": [
    "len(token.word_counts)"
   ]
  },
  {
   "cell_type": "code",
   "execution_count": 176,
   "id": "ad89556e",
   "metadata": {},
   "outputs": [],
   "source": [
    "# print(token.index_word)\n",
    "# {1: 'a', 2: 'i', 3: 'the', 4: 'retweet', 5: 'you', 6: 'to', 7: 'is', 8: 'bitch' ... "
   ]
  },
  {
   "cell_type": "code",
   "execution_count": 177,
   "id": "62f14ae9",
   "metadata": {},
   "outputs": [
    {
     "data": {
      "text/plain": [
       "[[990, 513]]"
      ]
     },
     "execution_count": 177,
     "metadata": {},
     "output_type": "execute_result"
    }
   ],
   "source": [
    "x = ['test text']\n",
    "token.texts_to_sequences(x)"
   ]
  },
  {
   "cell_type": "code",
   "execution_count": 178,
   "id": "fa37e920",
   "metadata": {},
   "outputs": [],
   "source": [
    "vocab_size = len(token.word_counts)+1\n",
    "encoded_text = token.texts_to_sequences(text)\n",
    "# print(encoded_text)\n",
    "# [[3779, 79, 5, 49, 52, 5, 76, 8, 957, 16, 79, 22, 7, 1, 433, 520, 2, 88, 81, 6, 3780], [4, 3781, 22, 8, 329, 6, 20, 1339, 3782] ..."
   ]
  },
  {
   "cell_type": "code",
   "execution_count": 179,
   "id": "12370b28",
   "metadata": {},
   "outputs": [
    {
     "name": "stdout",
     "output_type": "stream",
     "text": [
      "[[3832   48    0    0    0    0    0    0    0    0    0    0    0    0\n",
      "     0    0    0    0    0    0    0    0    0    0    0    0    0    0\n",
      "     0    0    0    0    0    0    0    0    0    0    0    0    0    0\n",
      "     0    0    0    0    0    0    0    0    0    0    0    0    0    0\n",
      "     0    0    0    0    0    0    0    0    0    0    0    0    0    0\n",
      "     0    0    0    0    0    0    0    0    0    0    0    0    0    0\n",
      "     0    0    0    0    0    0    0    0    0    0    0    0    0    0\n",
      "     0    0    0    0    0    0    0    0    0    0    0    0    0    0\n",
      "     0    0    0    0    0    0    0    0]]\n"
     ]
    }
   ],
   "source": [
    "max_lenght = 120\n",
    "X = pad_sequences(encoded_text, maxlen=max_lenght, padding='post')\n",
    "print(X[:1])"
   ]
  },
  {
   "cell_type": "code",
   "execution_count": 180,
   "id": "127327a1",
   "metadata": {},
   "outputs": [
    {
     "data": {
      "text/plain": [
       "(4290, 120)"
      ]
     },
     "execution_count": 180,
     "metadata": {},
     "output_type": "execute_result"
    }
   ],
   "source": [
    "X.shape"
   ]
  },
  {
   "cell_type": "markdown",
   "id": "71ee1a80",
   "metadata": {},
   "source": [
    "## Model Building"
   ]
  },
  {
   "cell_type": "code",
   "execution_count": 181,
   "id": "79b827e0",
   "metadata": {},
   "outputs": [
    {
     "data": {
      "text/plain": [
       "0    1\n",
       "1    1\n",
       "2    1\n",
       "Name: class, dtype: int64"
      ]
     },
     "execution_count": 181,
     "metadata": {},
     "output_type": "execute_result"
    }
   ],
   "source": [
    "y = df['class']\n",
    "y[:3]"
   ]
  },
  {
   "cell_type": "code",
   "execution_count": 182,
   "id": "f94b8373",
   "metadata": {},
   "outputs": [
    {
     "name": "stdout",
     "output_type": "stream",
     "text": [
      "[[0. 1. 0.]\n",
      " [0. 1. 0.]\n",
      " [0. 1. 0.]]\n"
     ]
    }
   ],
   "source": [
    "y = to_categorical(df['class'])\n",
    "print(y[:3])"
   ]
  },
  {
   "cell_type": "code",
   "execution_count": 183,
   "id": "8c520a8a",
   "metadata": {},
   "outputs": [
    {
     "data": {
      "text/plain": [
       "((3432, 120), (858, 120))"
      ]
     },
     "execution_count": 183,
     "metadata": {},
     "output_type": "execute_result"
    }
   ],
   "source": [
    "X_train, X_test, y_train, y_test = train_test_split(X, y, test_size=0.2, random_state=0, stratify=y)\n",
    "\n",
    "X_train.shape, X_test.shape"
   ]
  },
  {
   "cell_type": "code",
   "execution_count": 184,
   "id": "4a50d323",
   "metadata": {},
   "outputs": [],
   "source": [
    "vec_size = 300\n",
    "\n",
    "model = Sequential()\n",
    "model.add(Embedding(vocab_size, vec_size, input_length=max_lenght))\n",
    "\n",
    "model.add(Conv1D(32, 2, activation='relu'))\n",
    "model.add(MaxPooling1D(2))\n",
    "model.add(Dropout(.2))\n",
    "\n",
    "model.add(Dense(32, activation='relu'))\n",
    "model.add(GlobalMaxPooling1D())\n",
    "model.add(Dense(3, activation='softmax'))"
   ]
  },
  {
   "cell_type": "code",
   "execution_count": 185,
   "id": "7ed4b301",
   "metadata": {},
   "outputs": [
    {
     "name": "stdout",
     "output_type": "stream",
     "text": [
      "Epoch 1/5\n",
      "\u001b[1m108/108\u001b[0m \u001b[32m━━━━━━━━━━━━━━━━━━━━\u001b[0m\u001b[37m\u001b[0m \u001b[1m3s\u001b[0m 16ms/step - accuracy: 0.4617 - loss: 1.0473 - val_accuracy: 0.8089 - val_loss: 0.5922\n",
      "Epoch 2/5\n",
      "\u001b[1m108/108\u001b[0m \u001b[32m━━━━━━━━━━━━━━━━━━━━\u001b[0m\u001b[37m\u001b[0m \u001b[1m1s\u001b[0m 13ms/step - accuracy: 0.8118 - loss: 0.5257 - val_accuracy: 0.8147 - val_loss: 0.4816\n",
      "Epoch 3/5\n",
      "\u001b[1m108/108\u001b[0m \u001b[32m━━━━━━━━━━━━━━━━━━━━\u001b[0m\u001b[37m\u001b[0m \u001b[1m1s\u001b[0m 13ms/step - accuracy: 0.8900 - loss: 0.3150 - val_accuracy: 0.8170 - val_loss: 0.4770\n",
      "Epoch 4/5\n",
      "\u001b[1m108/108\u001b[0m \u001b[32m━━━━━━━━━━━━━━━━━━━━\u001b[0m\u001b[37m\u001b[0m \u001b[1m1s\u001b[0m 13ms/step - accuracy: 0.9450 - loss: 0.1684 - val_accuracy: 0.7972 - val_loss: 0.5261\n",
      "Epoch 5/5\n",
      "\u001b[1m108/108\u001b[0m \u001b[32m━━━━━━━━━━━━━━━━━━━━\u001b[0m\u001b[37m\u001b[0m \u001b[1m2s\u001b[0m 15ms/step - accuracy: 0.9773 - loss: 0.0932 - val_accuracy: 0.7925 - val_loss: 0.6054\n"
     ]
    },
    {
     "data": {
      "text/plain": [
       "<keras.src.callbacks.history.History at 0x1eb5369b650>"
      ]
     },
     "execution_count": 185,
     "metadata": {},
     "output_type": "execute_result"
    }
   ],
   "source": [
    "model.compile(optimizer=Adam(learning_rate=.001), loss='categorical_crossentropy', metrics=['accuracy'], jit_compile=False)\n",
    "\n",
    "model.fit(X_train, y_train, epochs=5, validation_data=(X_test, y_test), shuffle=True)"
   ]
  },
  {
   "cell_type": "markdown",
   "id": "f9cde26e",
   "metadata": {},
   "source": [
    "## Model Testing"
   ]
  },
  {
   "cell_type": "code",
   "execution_count": 186,
   "id": "d346668e",
   "metadata": {},
   "outputs": [
    {
     "name": "stdout",
     "output_type": "stream",
     "text": [
      "\u001b[1m27/27\u001b[0m \u001b[32m━━━━━━━━━━━━━━━━━━━━\u001b[0m\u001b[37m\u001b[0m \u001b[1m0s\u001b[0m 4ms/step\n"
     ]
    },
    {
     "data": {
      "text/plain": [
       "array([[0., 0., 1.],\n",
       "       [0., 0., 1.],\n",
       "       [0., 0., 1.]])"
      ]
     },
     "execution_count": 186,
     "metadata": {},
     "output_type": "execute_result"
    }
   ],
   "source": [
    "y_pred = np.argmax(model.predict(X_test), axis=-1)\n",
    "y_test[:3]"
   ]
  },
  {
   "cell_type": "code",
   "execution_count": 187,
   "id": "453feedb",
   "metadata": {},
   "outputs": [
    {
     "data": {
      "image/png": "[encoded data removed]",
      "text/plain": [
       "<Figure size 640x480 with 1 Axes>"
      ]
     },
     "metadata": {},
     "output_type": "display_data"
    }
   ],
   "source": [
    "plot_confusion_matrix(confusion_matrix(np.argmax(y_test, axis=-1), y_pred));"
   ]
  },
  {
   "cell_type": "code",
   "execution_count": 188,
   "id": "2f042312",
   "metadata": {},
   "outputs": [
    {
     "name": "stdout",
     "output_type": "stream",
     "text": [
      "              precision    recall  f1-score   support\n",
      "\n",
      "           0       0.73      0.72      0.73       286\n",
      "           1       0.78      0.80      0.79       286\n",
      "           2       0.87      0.85      0.86       286\n",
      "\n",
      "    accuracy                           0.79       858\n",
      "   macro avg       0.79      0.79      0.79       858\n",
      "weighted avg       0.79      0.79      0.79       858\n",
      "\n"
     ]
    }
   ],
   "source": [
    "print(classification_report(np.argmax(y_test, axis=-1), y_pred))"
   ]
  },
  {
   "cell_type": "markdown",
   "id": "8965a87a",
   "metadata": {},
   "source": [
    "## Testing Custom Data"
   ]
  },
  {
   "cell_type": "code",
   "execution_count": 189,
   "id": "b80e1573",
   "metadata": {},
   "outputs": [],
   "source": [
    "x = 'Hello, how are you?'"
   ]
  },
  {
   "cell_type": "code",
   "execution_count": 190,
   "id": "f859ba7b",
   "metadata": {},
   "outputs": [],
   "source": [
    "def get_encoded(x):\n",
    "    x = get_clean(x)\n",
    "    x = token.texts_to_sequences([x])\n",
    "    x = pad_sequences(x, maxlen=max_lenght, padding='post')\n",
    "    return x"
   ]
  },
  {
   "cell_type": "code",
   "execution_count": 191,
   "id": "35de54a0",
   "metadata": {},
   "outputs": [
    {
     "data": {
      "text/plain": [
       "array([[3318,   71,   25,    4,    0,    0,    0,    0,    0,    0,    0,\n",
       "           0,    0,    0,    0,    0,    0,    0,    0,    0,    0,    0,\n",
       "           0,    0,    0,    0,    0,    0,    0,    0,    0,    0,    0,\n",
       "           0,    0,    0,    0,    0,    0,    0,    0,    0,    0,    0,\n",
       "           0,    0,    0,    0,    0,    0,    0,    0,    0,    0,    0,\n",
       "           0,    0,    0,    0,    0,    0,    0,    0,    0,    0,    0,\n",
       "           0,    0,    0,    0,    0,    0,    0,    0,    0,    0,    0,\n",
       "           0,    0,    0,    0,    0,    0,    0,    0,    0,    0,    0,\n",
       "           0,    0,    0,    0,    0,    0,    0,    0,    0,    0,    0,\n",
       "           0,    0,    0,    0,    0,    0,    0,    0,    0,    0,    0,\n",
       "           0,    0,    0,    0,    0,    0,    0,    0,    0,    0]])"
      ]
     },
     "execution_count": 191,
     "metadata": {},
     "output_type": "execute_result"
    }
   ],
   "source": [
    "get_encoded(x)"
   ]
  },
  {
   "cell_type": "code",
   "execution_count": 192,
   "id": "76a6cb11",
   "metadata": {},
   "outputs": [
    {
     "name": "stdout",
     "output_type": "stream",
     "text": [
      "\u001b[1m1/1\u001b[0m \u001b[32m━━━━━━━━━━━━━━━━━━━━\u001b[0m\u001b[37m\u001b[0m \u001b[1m0s\u001b[0m 31ms/step\n"
     ]
    },
    {
     "data": {
      "text/plain": [
       "array([2], dtype=int64)"
      ]
     },
     "execution_count": 192,
     "metadata": {},
     "output_type": "execute_result"
    }
   ],
   "source": [
    "np.argmax(model.predict(get_encoded(x)), axis=-1)"
   ]
  },
  {
   "cell_type": "markdown",
   "id": "3367d77d",
   "metadata": {},
   "source": [
    "## Load Store Model"
   ]
  },
  {
   "cell_type": "code",
   "execution_count": 193,
   "id": "cb641cf6",
   "metadata": {},
   "outputs": [
    {
     "name": "stdout",
     "output_type": "stream",
     "text": [
      "\u001b[1m1/1\u001b[0m \u001b[32m━━━━━━━━━━━━━━━━━━━━\u001b[0m\u001b[37m\u001b[0m \u001b[1m0s\u001b[0m 68ms/step\n"
     ]
    },
    {
     "data": {
      "text/plain": [
       "array([2], dtype=int64)"
      ]
     },
     "execution_count": 193,
     "metadata": {},
     "output_type": "execute_result"
    }
   ],
   "source": [
    "# keras\n",
    "model.save('models/hate_speech_classification.keras')\n",
    "model = load_model('models/hate_speech_classification.keras')\n",
    "\n",
    "np.argmax(model.predict(get_encoded(x)), axis=-1)"
   ]
  },
  {
   "cell_type": "code",
   "execution_count": 194,
   "id": "882a4eea",
   "metadata": {},
   "outputs": [],
   "source": [
    "# pickle\n",
    "pkl.dump(token, open('models/token.pkl', 'wb'))"
   ]
  }
 ],
 "metadata": {
  "kernelspec": {
   "display_name": "base",
   "language": "python",
   "name": "python3"
  },
  "language_info": {
   "codemirror_mode": {
    "name": "ipython",
    "version": 3
   },
   "file_extension": ".py",
   "mimetype": "text/x-python",
   "name": "python",
   "nbconvert_exporter": "python",
   "pygments_lexer": "ipython3",
   "version": "3.12.4"
  }
 },
 "nbformat": 4,
 "nbformat_minor": 5
}
